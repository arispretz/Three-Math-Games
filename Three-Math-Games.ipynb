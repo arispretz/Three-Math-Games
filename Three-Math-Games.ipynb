Scatter Plot Game
import matplotlib.pyplot as plt
import random

score = 0

xmin = -20
xmax = 20
ymin = -20
ymax = 20

fig, ax = plt.subplots()

for i in range(0,3):
    xpoint = random.randint(xmin, xmax)
    ypoint = random.randint(ymin, ymax)
    x = [xpoint]
    y = [ypoint]
    plt.axis([xmin,xmax,ymin,ymax]) # window size
    plt.plot([xmin,xmax],[0,0],'b') # blue x axis
    plt.plot([0,0],[ymin,ymax], 'b') # blue y axis
    plt.plot(x, y, 'ro')
    print(" ")
    plt.grid() # displays grid lines on graph
    plt.show()
    guess = input("Enter the coordinates of the red point point: \n")
    guess_array = guess.split(",")
    xguess = int(guess_array[0])
    yguess = int(guess_array[1])
    if xguess == xpoint and yguess == ypoint:
        score = score + 1

print("Your score: ", score) # notice this is not in the loop

Algebra Practice Game
# converts string input (even fractions) to float
def string_frac(in_string):
    if "/" in in_string:
        nd = in_string.split("/")
        n = float(nd[0])
        d = float(nd[1])
        ans = n/d
        return ans
    else:
        ans = float(in_string)
        return ans


# Simplest one-step addition
def one_step_add():
    import random
    # Display problem
    a = random.randint(-50, 50)
    b = random.randint(-50, 50)
    print("x + ", a, " = ", b)
    ans = float(input("x = "))
    answer = b-a
    # Test input
    if ans==answer:
        print("Correct! \n")
    else:
        print("Try again")
        print("The correct answer is ", answer, "\n")


# One-step additon with negaive numbers
def one_step_subtract():
    import random
    a = random.randint(-50, 50)
    b = random.randint(-50, 50)
    print(a, " + x = ", b)
    ans = float(input("x = "))
    # test
    answer = b-a
    if ans==answer:
        print("Correct! \n")
    else:
        print("Try again")
        print("The correct answer is ", answer, "\n")

# One-step multiply
def one_step_mult():
    # Uses string_frac(<input string>)
    import random
    a = random.randint(-50, 50)
    b = random.randint(-50, 50)
    print(a, "x = ", b)
    print("Round your answer to two decimal places.")
    ans_in = (input("x = "))
    answer = round(b/a,2)
    # test
    if string_frac(ans_in)==answer:
        print("Correct! \n")
    else:
        print("Try again")
        print("The correct answer is ", answer, "\n")


# One-step divide
def one_step_div():
    import random
    a = random.randint(-50, 50)
    b = random.randint(-50, 50)
    print("x/", a, " = ", b)
    ans = float(input("x = "))
    answer = b*a
    # test
    if ans==answer:
        print("Correct! \n")
    else:
        print("Try again")
        print("The correct answer is ", answer, "\n")


# Two-step problems
def two_step():
    import random
    # Uses string_frac()
    a = random.randint(-50, 50)
    b = random.randint(-50, 50)
    c = random.randint(-50, 50)
    print(a, "x + ", b, " = ", c)
    print("Round answer to two decimal places")
    ans_in = input("x = ")
    answer = (c-b)/a
    # test
    if round(string_frac(ans_in),2)==round(answer,2):
        print("Correct! \n")
    else:
        print("Try again")
        print("The correct answer is ", answer, "\n")


# test loop
for a in range(2):
    one_step_add()
    one_step_subtract()
    one_step_mult()
    one_step_div()
    two_step()
    print(" ")

two_step()
two_step()

Projectile Game
# Write your code here
%matplotlib inline
from ipywidgets import interactive
import matplotlib.pyplot as plt
import random
import numpy as np

def f(m,b,zoom):
    score = 0
    xmin = -zoom
    xmax = zoom
    ymin = -zoom
    ymax = zoom
    points = 10*xmax-xmin
    x = np.linspace(xmin, xmax, points)

    plt.axis([xmin,xmax,ymin,ymax]) # window size
    plt.plot([xmin,xmax],[0,0],'black') # black x axis
    plt.plot([0,0],[ymin,ymax], 'black') # black y axis

    # Line 1
    m = random.randint(1,50)
    b = random.randint(1,50)
    y1 = m*x + b
    plt.plot(x, y1)
    plt.show()
    if m == 0 and b == 0:
        score = score + 1

if score == 1:
    a = float(input("Enter a number: /n"))
    b = float(input("Enter a number: /n"))
    c = float(input("Enter a number: /n"))
    vx = -b/(2*a)
    vy = a*vx**2 + b*vx + c
    xmin = int(vx)-50
    xmax = int(vx)+50
    ymin = int(vy)-50
    ymax = int(vy)+50
    '''xpoint = random.randint(xmin, xmax)
    ypoint = random.randint(ymin, ymax)
    x = [xpoint]
    y = [ypoint]'''
    points = 2*(xmax-xmin)
    x = np.linspace(xmin,xmax,points)
    y = a*x**2 + b*x + c
    fig, ax = plt.subplots()
    plt.axis([xmin,xmax,ymin,ymax]) # window size
    plt.plot([xmin,xmax],[0,0],'b') # blue x axis
    plt.plot([0,0],[ymin,ymax], 'b') # blue y axis
    plt.plot(x,y) # plot the line for the equation
    plt.plot([vx],[vy],'ro') # plot the vertex point
    plt.grid() # displays grid lines on graph
    print(" (", vx, ",", vy, ")")
    print(" ")
    plt.show()
    if a == 0 and b == 0 and c == 0:
        score = score + 1
        print("Your score: ", score)

else:
    print("Your score: ", score)

# Set up the sliders
interactive_plot = interactive(f, m=(-9, 9), b=(-9, 9), zoom=(1,100))
interactive_plot
